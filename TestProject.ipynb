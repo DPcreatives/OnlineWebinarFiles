{
 "cells": [
  {
   "cell_type": "markdown",
   "metadata": {},
   "source": [
    "#### objective ----- Problem 1: Status of COVID-19 in Various Countries From the Covid-19 data, plot the number of deaths with respect to the dates for 2 countries other than India (eg. US, Italy, China). Use polynomial regression to predict the number of deaths in the last 1 day for these countries and India. Check the performance of the models in terms of R2-error. "
   ]
  },
  {
   "cell_type": "markdown",
   "metadata": {},
   "source": [
    "##### Made By Divyanshu Parihar"
   ]
  },
  {
   "cell_type": "markdown",
   "metadata": {},
   "source": [
    "# Importing all the lib we will need"
   ]
  },
  {
   "cell_type": "code",
   "execution_count": 242,
   "metadata": {},
   "outputs": [],
   "source": [
    "#<-------------------These Imports are releated to DataScience Work ------------------------------------------>\n",
    "import pandas as pd #importing Pandas DataAnalysis Library\n",
    "import matplotlib.pyplot as plt #importing matplotlib for graphical visualization \n",
    "import numpy as np #importing numpy for manipulating\n",
    "#<-----------------------These imports are for machine learning  algorithms ---------------------------------->\n",
    "from sklearn.preprocessing import PolynomialFeatures #To work with polynomial combinations\n",
    "from sklearn.linear_model import LinearRegression# This is our Core MachineLearning Algorithm"
   ]
  },
  {
   "cell_type": "markdown",
   "metadata": {},
   "source": [
    "# Fetching DataSet"
   ]
  },
  {
   "cell_type": "code",
   "execution_count": 243,
   "metadata": {},
   "outputs": [],
   "source": [
    "#Getting The DataSet\n",
    "dataset=pd.read_csv(r'https://raw.githubusercontent.com/datasets/covid-19/master/data/countries-aggregated.csv')"
   ]
  },
  {
   "cell_type": "markdown",
   "metadata": {},
   "source": [
    "# Framming DataSet Data for Spain and Italy only"
   ]
  },
  {
   "cell_type": "code",
   "execution_count": 244,
   "metadata": {},
   "outputs": [],
   "source": [
    "#<--------------------------------Getting data for specific countries ------------------------------------------>\n",
    "df_spain=dataset[dataset['Country']==\"Spain\"].reset_index(drop=True)# df_spain contains the dataframe where the country is spain\n",
    "df_italy=dataset[dataset['Country']==\"Italy\"].reset_index(drop=True)# df_italy contains the dataframe where the country is italy"
   ]
  },
  {
   "cell_type": "markdown",
   "metadata": {},
   "source": [
    "# Spain "
   ]
  },
  {
   "cell_type": "code",
   "execution_count": 245,
   "metadata": {},
   "outputs": [
    {
     "name": "stdout",
     "output_type": "stream",
     "text": [
      "           Date Country  Confirmed  Recovered  Deaths\n",
      "141  2020-06-21   Spain     246272     150376   28323\n",
      "142  2020-06-22   Spain     246504     150376   28324\n",
      "143  2020-06-23   Spain     246752     150376   28325\n",
      "144  2020-06-24   Spain     247086     150376   28327\n",
      "145  2020-06-25   Spain     247486     150376   28330\n"
     ]
    }
   ],
   "source": [
    "#<----------------------------modifying data to remove cases where confirmed cases are 0.------------------>\n",
    "no_case_spain=df_spain['Confirmed']==0 # condition for next line\n",
    "df_spain=df_spain[~no_case_spain].reset_index(drop=True)#this will drop all the where the above condition is True\n",
    "dates=df_spain['Date'].values # it will fetch all the actual values NOT THE dataframe\n",
    "x_values = np.arange(0,len(dates))# with the help of numpy.arrange function we will generate an array[0,1,2,------,145]\n",
    "print(df_spain.tail())# it just prints last 5 elements for the df_spain\n"
   ]
  },
  {
   "cell_type": "markdown",
   "metadata": {},
   "source": [
    "#####                                                      Preprocessing"
   ]
  },
  {
   "cell_type": "code",
   "execution_count": 246,
   "metadata": {},
   "outputs": [],
   "source": [
    "#<----------------------------Preprocessing the data------------------>\n",
    "poly=PolynomialFeatures(degree=6)# this will instantiate a 5 degree plynomial transformer(poly)\n",
    "X_poly=poly.fit_transform(x_values.reshape((-1,1))) # using our transformer to to make to make 1d array of polymers of x_valuesto reduce the gap \n",
    "#between thecomponents for single thing"
   ]
  },
  {
   "cell_type": "markdown",
   "metadata": {},
   "source": [
    "#####                                                     Creating Variables"
   ]
  },
  {
   "cell_type": "code",
   "execution_count": 247,
   "metadata": {},
   "outputs": [],
   "source": [
    "y=df_spain['Deaths'].values# Fetching the Values for the Deaths.\n",
    "X_train = X_poly[:-1,:]# contains all values except last\n",
    "y_train = y[:-1]# contains all values except last\n",
    "X_test = X_poly[-1:,:]# contains the last value\n",
    "y_test = y[-1:]# contains the last value"
   ]
  },
  {
   "cell_type": "markdown",
   "metadata": {},
   "source": [
    "#####                                                      Applying linear regression Algorithm"
   ]
  },
  {
   "cell_type": "code",
   "execution_count": 248,
   "metadata": {},
   "outputs": [
    {
     "data": {
      "text/plain": [
       "LinearRegression()"
      ]
     },
     "execution_count": 248,
     "metadata": {},
     "output_type": "execute_result"
    }
   ],
   "source": [
    "span_nlr=LinearRegression()# initializing linearRegression\n",
    "span_nlr.fit(X_train,y_train)# training the model with the train data defined above."
   ]
  },
  {
   "cell_type": "markdown",
   "metadata": {},
   "source": [
    "###                                                 Checking R**2 value(accuracy)"
   ]
  },
  {
   "cell_type": "code",
   "execution_count": 249,
   "metadata": {},
   "outputs": [
    {
     "name": "stdout",
     "output_type": "stream",
     "text": [
      "0.9957677902174804\n"
     ]
    }
   ],
   "source": [
    "print(span_nlr.score(X_poly,y))# we have found the accouracy. it also depends on degree of Preprocessing"
   ]
  },
  {
   "cell_type": "markdown",
   "metadata": {},
   "source": [
    "#####                                                      Predicting values"
   ]
  },
  {
   "cell_type": "code",
   "execution_count": 250,
   "metadata": {},
   "outputs": [
    {
     "name": "stdout",
     "output_type": "stream",
     "text": [
      "[29185.52598846]\n"
     ]
    }
   ],
   "source": [
    "Y_pred=span_nlr.predict(X_test)\n",
    "print(Y_pred)"
   ]
  },
  {
   "cell_type": "markdown",
   "metadata": {},
   "source": [
    "#####                                                      Showing Results (spain)"
   ]
  },
  {
   "cell_type": "code",
   "execution_count": 251,
   "metadata": {},
   "outputs": [
    {
     "name": "stdout",
     "output_type": "stream",
     "text": [
      "Accuracy : 99.57677902174804 %\n",
      "Actual: [28330]\n",
      "Predicted: [29185.52598846]\n",
      "%error:  [3.01985877]\n"
     ]
    }
   ],
   "source": [
    "Y_pred=span_nlr.predict(X_test)\n",
    "print('Accuracy :',100*np.abs(span_nlr.score(X_poly,y)),\"%\")\n",
    "print('Actual:',y_test)\n",
    "print('Predicted:',Y_pred)\n",
    "print('%error: ',100*abs(Y_pred-y_test)/y_test)"
   ]
  },
  {
   "cell_type": "code",
   "execution_count": 252,
   "metadata": {},
   "outputs": [
    {
     "data": {
      "image/png": "[encoded data removed]",
      "text/plain": [
       "<Figure size 432x288 with 1 Axes>"
      ]
     },
     "metadata": {
      "needs_background": "light"
     },
     "output_type": "display_data"
    }
   ],
   "source": [
    "#<----------------------------------Ploting Actual Graphical Representation-------------------------------->\n",
    "plt.scatter(x_values,y,color='red')\n",
    "plt.plot(x_values,y)\n",
    "plt.plot(x_values, span_nlr.predict(X_poly), color = \"green\")\n",
    "plt.scatter(X_test[:,1],Y_pred,color='green')\n",
    "plt.xticks(x_values[0 : : 10])\n",
    "plt.xlabel('Days')\n",
    "plt.ylabel('Deaths')\n",
    "plt.show()"
   ]
  },
  {
   "cell_type": "markdown",
   "metadata": {},
   "source": [
    "# Italy"
   ]
  },
  {
   "cell_type": "code",
   "execution_count": 253,
   "metadata": {},
   "outputs": [
    {
     "name": "stdout",
     "output_type": "stream",
     "text": [
      "           Date Country  Confirmed  Recovered  Deaths\n",
      "151  2020-06-21   Italy     238499     182893   34634\n",
      "152  2020-06-22   Italy     238720     183426   34657\n",
      "153  2020-06-23   Italy     238833     184585   34675\n",
      "154  2020-06-24   Italy     239410     186111   34644\n",
      "155  2020-06-25   Italy     239706     186725   34678\n"
     ]
    }
   ],
   "source": [
    "#<----------------------------modifying data to remove cases where confirmed cases are 0.------------------>\n",
    "no_case_italy=df_italy['Confirmed']==0 # condition for next line\n",
    "df_spain=df_italy[~no_case_italy].reset_index(drop=True)#this will drop all the where the above condition is True\n",
    "dates=df_italy['Date'].values # it will fetch all the actual values NOT THE dataframe\n",
    "x_values_italy = np.arange(0,len(dates))# with the help of numpy.arrange function we will generate an array[0,1,2,------,145]\n",
    "print(df_italy.tail())# it just prints last 5 elements for the df_spain\n"
   ]
  },
  {
   "cell_type": "markdown",
   "metadata": {},
   "source": [
    "#####                                                      Preprocessing"
   ]
  },
  {
   "cell_type": "code",
   "execution_count": 254,
   "metadata": {},
   "outputs": [],
   "source": [
    "#<----------------------------Preprocessing the data------------------>\n",
    "poly_italy=PolynomialFeatures(degree=5)# this will instantiate a 5 degree plynomial transformer(poly)\n",
    "X_poly_italy=poly_italy.fit_transform(x_values_italy.reshape((-1,1))) # using our transformer to to make to make 1d array of polymers of x_valuesto reduce the gap \n",
    "#between thecomponents for single thing"
   ]
  },
  {
   "cell_type": "markdown",
   "metadata": {},
   "source": [
    "#####                                                     Creating Variables"
   ]
  },
  {
   "cell_type": "code",
   "execution_count": 255,
   "metadata": {},
   "outputs": [],
   "source": [
    "y_italy=df_italy['Deaths'].values# Fetching the Values for the Deaths.\n",
    "X_train_italy = X_poly_italy[:-1,:]# contains all values except last\n",
    "y_train_italy = y_italy[:-1]# contains all values except last\n",
    "X_test_italy = X_poly_italy[-1:,:]# contains the last value\n",
    "y_test_italy = y_italy[-1:]# contains the last value"
   ]
  },
  {
   "cell_type": "markdown",
   "metadata": {},
   "source": [
    "#####                                                      Applying linear regression Algorithm"
   ]
  },
  {
   "cell_type": "code",
   "execution_count": 256,
   "metadata": {},
   "outputs": [
    {
     "data": {
      "text/plain": [
       "LinearRegression()"
      ]
     },
     "execution_count": 256,
     "metadata": {},
     "output_type": "execute_result"
    }
   ],
   "source": [
    "italy_nlr=LinearRegression()# initializing linearRegression\n",
    "italy_nlr.fit(X_train_italy,y_train_italy)# training the model with the train data defined above."
   ]
  },
  {
   "cell_type": "markdown",
   "metadata": {},
   "source": [
    "###                                                 Checking R**2 value(accuracy)"
   ]
  },
  {
   "cell_type": "code",
   "execution_count": 257,
   "metadata": {},
   "outputs": [
    {
     "data": {
      "text/plain": [
       "0.9964205290093119"
      ]
     },
     "execution_count": 257,
     "metadata": {},
     "output_type": "execute_result"
    }
   ],
   "source": [
    "italy_nlr.score(X_poly_italy,y_italy)# we have found the accouracy. it also depends on degree of Preprocessing"
   ]
  },
  {
   "cell_type": "markdown",
   "metadata": {},
   "source": [
    "#####                                                      Predicting values"
   ]
  },
  {
   "cell_type": "code",
   "execution_count": 258,
   "metadata": {},
   "outputs": [
    {
     "name": "stdout",
     "output_type": "stream",
     "text": [
      "[37213.01092299]\n"
     ]
    }
   ],
   "source": [
    "Y_pred_italy=italy_nlr.predict(X_test_italy)\n",
    "print(Y_pred_italy)# predicted value"
   ]
  },
  {
   "cell_type": "markdown",
   "metadata": {},
   "source": [
    "##### Showing Results (italy) "
   ]
  },
  {
   "cell_type": "code",
   "execution_count": 259,
   "metadata": {},
   "outputs": [
    {
     "name": "stdout",
     "output_type": "stream",
     "text": [
      "Accuracy : 99.64205290093119 %\n",
      "Actual: [34678]\n",
      "Predicted: [37213.01092299]\n",
      "%error:  [7.31014165]\n"
     ]
    }
   ],
   "source": [
    "\n",
    "print('Accuracy :',100*np.abs(italy_nlr.score(X_poly_italy,y_italy)),\"%\")\n",
    "print('Actual:',y_test_italy)\n",
    "print('Predicted:',Y_pred_italy)\n",
    "print('%error: ',100*abs(Y_pred_italy-y_test_italy)/y_test_italy)"
   ]
  },
  {
   "cell_type": "code",
   "execution_count": 260,
   "metadata": {},
   "outputs": [
    {
     "data": {
      "image/png": "[encoded data removed]",
      "text/plain": [
       "<Figure size 432x288 with 1 Axes>"
      ]
     },
     "metadata": {
      "needs_background": "light"
     },
     "output_type": "display_data"
    }
   ],
   "source": [
    "#<----------------------------------Ploting Actual Graphical Representation-------------------------------->\n",
    "plt.scatter(x_values_italy,y_italy,color='red')\n",
    "plt.plot(x_values_italy, italy_nlr.predict(X_poly_italy), color = \"green\")\n",
    "plt.scatter(X_test_italy[:,1],Y_pred_italy,color='blue')\n",
    "plt.xticks(x_values_italy[0 : : 10])\n",
    "plt.xlabel('Days')\n",
    "plt.ylabel('Deaths')\n",
    "plt.show()"
   ]
  },
  {
   "cell_type": "markdown",
   "metadata": {},
   "source": [
    "# Extra --- Graph between  Between Spain and Italy (real Data)"
   ]
  },
  {
   "cell_type": "code",
   "execution_count": 261,
   "metadata": {},
   "outputs": [
    {
     "data": {
      "image/png": "[encoded data removed]",
      "text/plain": [
       "<Figure size 432x288 with 1 Axes>"
      ]
     },
     "metadata": {
      "needs_background": "light"
     },
     "output_type": "display_data"
    }
   ],
   "source": [
    "plt.scatter(x_values_italy,y_italy,color='red')\n",
    "plt.scatter(x_values,y,color='Green')\n",
    "plt.legend((\"italy\",'Spain'))\n",
    "plt.show()"
   ]
  },
  {
   "cell_type": "code",
   "execution_count": null,
   "metadata": {},
   "outputs": [],
   "source": []
  },
  {
   "cell_type": "code",
   "execution_count": null,
   "metadata": {},
   "outputs": [],
   "source": []
  },
  {
   "cell_type": "code",
   "execution_count": null,
   "metadata": {},
   "outputs": [],
   "source": []
  }
 ],
 "metadata": {
  "kernelspec": {
   "display_name": "Python 3",
   "language": "python",
   "name": "python3"
  },
  "language_info": {
   "codemirror_mode": {
    "name": "ipython",
    "version": 3
   },
   "file_extension": ".py",
   "mimetype": "text/x-python",
   "name": "python",
   "nbconvert_exporter": "python",
   "pygments_lexer": "ipython3",
   "version": "3.8.2"
  }
 },
 "nbformat": 4,
 "nbformat_minor": 4
}
